{
 "cells": [
  {
   "cell_type": "markdown",
   "metadata": {},
   "source": [
    "Cek Status Yolov5"
   ]
  },
  {
   "cell_type": "code",
   "execution_count": null,
   "metadata": {},
   "outputs": [],
   "source": [
    "# cek status yolov5\n",
    "import torch\n",
    "import utils\n",
    "display = utils.notebook_init()"
   ]
  },
  {
   "cell_type": "markdown",
   "metadata": {},
   "source": [
    "Training"
   ]
  },
  {
   "cell_type": "code",
   "execution_count": null,
   "metadata": {},
   "outputs": [],
   "source": [
    "%%time\n",
    "!python train.py --batch 20 --epochs 100 --data data.yaml --cfg yolov5s.yaml --weights '' --name train_result --cache\n",
    "# --batch: jumlah training sample yang diutilisasi dalam satu iterasi\n",
    "# --epochs: jumlah pengulangan training yang dilakukan\n",
    "# --data: dataset yang akan di-train\n",
    "# --cfg: file konfigurasi yang digunakan untuk training\n",
    "# --weights: model yang digunakan sebagai titik awal training, tidak perlu diisi jika ingin training dari awal\n",
    "# --name: nama folder untuk hasil training\n",
    "# --cache: melakukan cache pada memory agar proses training lebih cepat\n",
    "# %%time: mencatat waktu yang dibutuhkan untuk training"
   ]
  },
  {
   "cell_type": "markdown",
   "metadata": {},
   "source": [
    "Inference/Detection (method 1)"
   ]
  },
  {
   "cell_type": "code",
   "execution_count": null,
   "metadata": {},
   "outputs": [],
   "source": [
    "%%time\n",
    "!python detect.py --weights best_model.pt --source test_vid_Trim.mp4\n",
    "# --weights: model yang akan dipakai untuk deteksi\n",
    "# --source: 0,1,dst      --> kamera\n",
    "#           test_vid.mp4 --> video (full path recommended)\n",
    "#           sample.png   --> gambar (full path recommended)\n",
    "#           'https://www.youtube.com/watch?v=dQw4w9WgXcQ' --> YouTube (perlu install library khusus)"
   ]
  },
  {
   "cell_type": "markdown",
   "metadata": {},
   "source": [
    "Inference/Detection (method 2)"
   ]
  },
  {
   "cell_type": "code",
   "execution_count": null,
   "metadata": {},
   "outputs": [],
   "source": [
    "import torch\n",
    "import time\n",
    "\n",
    "# Model pretrained yolov5\n",
    "model = torch.hub.load('ultralytics/yolov5', 'yolov5s') # mengambil model yolov5s dari github yolov5\n",
    "\n",
    "# Model dari local\n",
    "path = 'path ke model pada komputer'\n",
    "model = torch.hub.load('','custom', path=path, source='local', _verbose=False)\n",
    "\n",
    "# Source Images\n",
    "img = '/content/drive/MyDrive/yolov5/I-80_Eastshore_Fwy.jpg'  # or file, Path, PIL, OpenCV, numpy, list\n",
    "\n",
    "# Inference\n",
    "A = time.time()\n",
    "results = model(img)\n",
    "B = time.time()\n",
    "\n",
    "# Results\n",
    "results.save()\n",
    "timeElapsed = (B - A) # menghitung waktu yang dibutuhkan untuk melakukan deteksi\n",
    "print(timeElapsed,\"\",'seconds') # mencetak waktu yang dibutuhkan untuk melakukan deteksi"
   ]
  }
 ],
 "metadata": {
  "interpreter": {
   "hash": "53905941f482ba3c7005a0359b4ba5584c4acc4fb80e1e1e85ad2b59bb45b700"
  },
  "kernelspec": {
   "display_name": "Python 3.10.4 64-bit",
   "language": "python",
   "name": "python3"
  },
  "language_info": {
   "codemirror_mode": {
    "name": "ipython",
    "version": 3
   },
   "file_extension": ".py",
   "mimetype": "text/x-python",
   "name": "python",
   "nbconvert_exporter": "python",
   "pygments_lexer": "ipython3",
   "version": "3.10.4"
  },
  "orig_nbformat": 4
 },
 "nbformat": 4,
 "nbformat_minor": 2
}
